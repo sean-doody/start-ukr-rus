{
 "cells": [
  {
   "cell_type": "code",
   "execution_count": null,
   "metadata": {},
   "outputs": [],
   "source": [
    "import os\n",
    "import json\n",
    "import glob\n",
    "import pandas as pd\n",
    "from joblib import Parallel, delayed\n",
    "\n",
    "from tqdm import tqdm\n",
    "tqdm.pandas()"
   ]
  },
  {
   "cell_type": "code",
   "execution_count": null,
   "metadata": {},
   "outputs": [],
   "source": [
    "os.getcwd()"
   ]
  },
  {
   "cell_type": "code",
   "execution_count": null,
   "metadata": {},
   "outputs": [],
   "source": [
    "data = glob.glob(os.path.join(\"..\", \"data\", \"battles\", \"b01\", \"*.json\"))[:100]\n",
    "print(f\"N tweets: {len(data)}\")"
   ]
  },
  {
   "cell_type": "code",
   "execution_count": null,
   "metadata": {},
   "outputs": [],
   "source": [
    "def load_tweets(tweet: str) -> dict:\n",
    "    with open(tweet, \"r\") as f:\n",
    "        output = json.load(f)\n",
    "    return output"
   ]
  },
  {
   "cell_type": "code",
   "execution_count": null,
   "metadata": {},
   "outputs": [],
   "source": [
    "%%time\n",
    "\n",
    "tweets = Parallel(n_jobs=8)(delayed(load_tweets)(tweet) for tweet in tqdm(data))"
   ]
  },
  {
   "cell_type": "code",
   "execution_count": null,
   "metadata": {},
   "outputs": [],
   "source": [
    "tweets[2][\"referenced_tweets\"]"
   ]
  },
  {
   "cell_type": "code",
   "execution_count": null,
   "metadata": {},
   "outputs": [],
   "source": [
    "def extract_urls(tweet: dict):\n",
    "    urls = []\n",
    "    try:\n",
    "        for url in tweet[\"entities\"][\"urls\"]:\n",
    "            urls.append(url[\"expanded_url\"])\n",
    "    except Exception:\n",
    "        pass\n",
    "    if len(urls) == 0:\n",
    "        return None\n",
    "    else:\n",
    "        return urls\n",
    "    \n",
    "    \n",
    "def extract_hashtags(tweet: dict):\n",
    "    hashtags = []\n",
    "    try:\n",
    "        for hashtag in tweet[\"entities\"][\"hashtags\"]:\n",
    "            hashtags.append(hashtag[\"tag\"])\n",
    "    except Exception:\n",
    "        pass\n",
    "    \n",
    "    if len(hashtags) == 0:\n",
    "        return None\n",
    "    else:\n",
    "        return \",\".join(hashtags)\n",
    "    \n",
    "    \n",
    "def extract_tweet_references(tweet: dict):\n",
    "    if \"referenced_tweets\" in tweet:\n",
    "        refs = {}\n",
    "        for ref in tweet[\"referenced_tweets\"]:\n",
    "            refs[ref[\"id\"]] = ref[\"type\"]\n",
    "            \n",
    "        return refs\n",
    "    else:\n",
    "        return \"original_tweet\"\n",
    "    \n",
    "    \n",
    "def extract_mentions(tweet: dict):\n",
    "    mentions = {}\n",
    "    try:\n",
    "        for mention in tweet[\"entities\"][\"mentions\"]:\n",
    "            mentions[mention[\"id\"]] = mention[\"username\"]\n",
    "    except Exception:\n",
    "        pass\n",
    "    \n",
    "    if len(mentions) == 0:\n",
    "        return None\n",
    "    else:\n",
    "        return mentions\n",
    "    \n",
    "    \n",
    "def extract_author_info(tweet: dict):\n",
    "    author = {}\n",
    "    \n",
    "    author[\"id\"] = tweet[\"id\"]\n",
    "    author[\"username\"] = tweet[\"username\"]\n",
    "    author[\"description\"] = tweet[\"description\"]\n",
    "    author[\"verified\"] = tweet[\"verified\"]\n",
    "    \n",
    "    try:\n",
    "        author[\"location\"] = tweet[\"location\"]\n",
    "    except Exception:\n",
    "        author[\"location\"] = None\n",
    "    \n",
    "    author[\"url\"] = tweet[\"url\"]\n",
    "    author[\"profile_image_url\"] = tweet[\"profile_image_url\"]\n",
    "    author[\"created_at\"] = tweet[\"created_at\"]\n",
    "    author[\"followers_count\"] = tweet[\"public_metrics\"][\"followers_count\"]\n",
    "    author[\"following_count\"] = tweet[\"public_metrics\"][\"following_count\"]\n",
    "    author[\"tweet_count\"] = tweet[\"public_metrics\"][\"tweet_count\"]\n",
    "    author[\"listed_acount\"] = tweet[\"public_metrics\"][\"listed_count\"]\n",
    "        \n",
    "    return author\n",
    "    "
   ]
  },
  {
   "cell_type": "code",
   "execution_count": null,
   "metadata": {},
   "outputs": [],
   "source": [
    "def extract_tweet_metadata(tweet: dict):\n",
    "    output = {}\n",
    "    \n",
    "    fields = [\n",
    "        \"id\",\n",
    "        \"conversation_id\",\n",
    "        \"reply_settings\",\n",
    "        \"source\",\n",
    "        \"author_id\",\n",
    "        \"created_at\",\n",
    "        \"text\",\n",
    "        \"lang\",\n",
    "        \"possibly_sensitive\",\n",
    "    ]\n",
    "    \n",
    "    output = {k: tweet[k] for k in fields}\n",
    "    output[\"author\"] = tweet[\"author\"][\"username\"]\n",
    "    output[\"urls\"] = extract_urls(tweet)\n",
    "    output[\"referenced_tweets\"] = extract_tweet_references(tweet)\n",
    "    output[\"hashtags\"] = extract_hashtags(tweet)\n",
    "    output[\"mentions\"] = extract_mentions(tweet)\n",
    "    \n",
    "    author_info = extract_author_info(tweet[\"author\"])\n",
    "    \n",
    "    return output, author_info"
   ]
  },
  {
   "cell_type": "code",
   "execution_count": null,
   "metadata": {},
   "outputs": [],
   "source": [
    "%%time\n",
    "\n",
    "outputs = Parallel(n_jobs=8)(delayed(extract_tweet_metadata)(tweet) for tweet in tqdm(tweets))\n"
   ]
  },
  {
   "cell_type": "code",
   "execution_count": null,
   "metadata": {},
   "outputs": [],
   "source": [
    "author_data, tweet_data = outputs"
   ]
  },
  {
   "cell_type": "code",
   "execution_count": null,
   "metadata": {},
   "outputs": [],
   "source": [
    "author_data = []\n",
    "tweet_data = []\n",
    "for tup in tqdm(outputs):\n",
    "    tweet_data.append(tup[0])\n",
    "    author_data.append(tup[1])"
   ]
  },
  {
   "cell_type": "code",
   "execution_count": null,
   "metadata": {},
   "outputs": [],
   "source": [
    "pd.DataFrame(tweet_data)"
   ]
  },
  {
   "cell_type": "code",
   "execution_count": null,
   "metadata": {},
   "outputs": [],
   "source": [
    "extract_author_info(tweets[0][\"author\"])"
   ]
  },
  {
   "cell_type": "code",
   "execution_count": null,
   "metadata": {},
   "outputs": [],
   "source": [
    "tweets[0][\"author\"]"
   ]
  },
  {
   "cell_type": "code",
   "execution_count": null,
   "metadata": {},
   "outputs": [],
   "source": []
  }
 ],
 "metadata": {
  "kernelspec": {
   "display_name": "Python 3.10.4 ('start-ukr')",
   "language": "python",
   "name": "python3"
  },
  "language_info": {
   "codemirror_mode": {
    "name": "ipython",
    "version": 3
   },
   "file_extension": ".py",
   "mimetype": "text/x-python",
   "name": "python",
   "nbconvert_exporter": "python",
   "pygments_lexer": "ipython3",
   "version": "3.10.4"
  },
  "orig_nbformat": 4,
  "vscode": {
   "interpreter": {
    "hash": "0c22c9c544543f4d12bba1a335bfd89b8290139184212959cf7a2b0ced75b578"
   }
  }
 },
 "nbformat": 4,
 "nbformat_minor": 2
}
